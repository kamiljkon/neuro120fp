{
 "cells": [
  {
   "cell_type": "markdown",
   "metadata": {},
   "source": [
    "This notebook is adapted for running on a local machine"
   ]
  },
  {
   "cell_type": "markdown",
   "metadata": {},
   "source": [
    "# 1. Data prep"
   ]
  },
  {
   "cell_type": "code",
   "execution_count": 27,
   "metadata": {},
   "outputs": [],
   "source": [
    "from config import *"
   ]
  },
  {
   "cell_type": "code",
   "execution_count": 28,
   "metadata": {},
   "outputs": [
    {
     "name": "stdout",
     "output_type": "stream",
     "text": [
      "Loaded 629 samples from /Users/kamilkon/Desktop/Neuro120FP/meta_val_filtered.pkl.\n"
     ]
    }
   ],
   "source": [
    "#--- Loading the filtered metadata ---\n",
    "\n",
    "out_path = '/Users/kamilkon/Desktop/Neuro120FP/meta_val_filtered.pkl'\n",
    "with open(out_path, 'rb') as f:\n",
    "    meta_kept = pickle.load(f)\n",
    "print(f\"Loaded {len(meta_kept)} samples from {out_path}.\")"
   ]
  },
  {
   "cell_type": "code",
   "execution_count": 29,
   "metadata": {},
   "outputs": [],
   "source": [
    "#--- Functions for computing RDM and the Mantel test ---\n",
    "def compute_rdm(feats, metric='correlation'):\n",
    "    \"\"\"\n",
    "    Inputs:\n",
    "        feats = a 2D array of shape (n_samples, n_features)\n",
    "        metric = a string indicating the distance metric to use\n",
    "    Outputs:\n",
    "        rdm = a 2D array of shape (n_samples, n_samples) containing the pairwise distances\n",
    "    \"\"\"\n",
    "\n",
    "    return squareform(pdist(feats, metric=metric))\n",
    "\n",
    "\n",
    "def mantel_test(rdm1, rdm2, n_perm=500):\n",
    "    \"\"\"\n",
    "    Inputs:\n",
    "        rdm1 = a 2D array of shape (n_samples, n_samples) containing the human RDM\n",
    "        rdm2 = a 2D array of shape (n_samples, n_samples) containing the CNN RDM\n",
    "        n_perm = the number of permutations to perform\n",
    "    Outputs:\n",
    "        r0 = the observed correlation coefficient\n",
    "        pval = the p-value of the test\n",
    "    \"\"\"\n",
    "\n",
    "    iu = np.triu_indices_from(rdm1, k=1)\n",
    "    v1 = rdm1[iu]; v2 = rdm2[iu]\n",
    "    r0, _ = pearsonr(v1, v2)\n",
    "    perm_rs = []\n",
    "    idx = np.arange(rdm1.shape[0])\n",
    "    for _ in range(n_perm):\n",
    "        np.random.shuffle(idx)\n",
    "        perm = rdm2[np.ix_(idx, idx)]\n",
    "        perm_rs.append(pearsonr(v1, perm[iu])[0])\n",
    "    perm_rs = np.array(perm_rs)\n",
    "    pval = (np.sum(perm_rs >= r0) + 1)/(n_perm+1)\n",
    "    return r0, pval"
   ]
  },
  {
   "cell_type": "markdown",
   "metadata": {},
   "source": [
    "# 2. Computing features from the fMRI and the CNN"
   ]
  },
  {
   "cell_type": "code",
   "execution_count": null,
   "metadata": {},
   "outputs": [],
   "source": [
    "#--- Computing features ---\n",
    "\n",
    "# Instantiating the model\n",
    "device = torch.device('cuda' if torch.cuda.is_available() else 'cpu')\n",
    "model  = Bigger3DCNN(in_channels=1, num_classes=5).to(device)\n",
    "model.load_state_dict(torch.load('bestmodel.pth',\n",
    "                                 map_location=device))\n",
    "model.eval()\n",
    "\n",
    "# Building up the features of the RDMs\n",
    "features_human = []\n",
    "features_cnn   = []\n",
    "\n",
    "for entry in meta_kept:\n",
    "    subj = entry['subject']\n",
    "    run  = entry['run_idx']\n",
    "    fp = entry.get('filepath') or (f\"Data/ds000113/sub-{subj}/ses-movie/func/sub-{subj}_ses-movie_task-movie_run-{run}_bold.nii.gz\")\n",
    "    img   = nib.load(fp)\n",
    "    vol   = img.get_fdata()[..., entry['TR_local']].astype(np.float32)\n",
    "    vol_n = (vol - vol.mean())/(vol.std()+1e-6)\n",
    "\n",
    "    # Human features => flattened volumes\n",
    "    features_human.append(vol_n.ravel())\n",
    "\n",
    "    # CNN features => logits\n",
    "    x = torch.from_numpy(vol_n[None, None]).to(device)\n",
    "    with torch.no_grad():\n",
    "        logits = model(x)               \n",
    "    features_cnn.append(logits.cpu().numpy().ravel())\n",
    "\n",
    "features_human = np.stack(features_human, 0)  # (N, X*Y*Z)\n",
    "features_cnn   = np.stack(features_cnn,   0)  # (N, num_classes)\n",
    "\n",
    "print(\"Human feats:\", features_human.shape)\n",
    "print(\"CNN   feats:\", features_cnn.shape)\n",
    "\n",
    "# PCA reducing the human features\n",
    "pca = PCA(n_components=50, random_state=0).fit(features_human)\n",
    "human_pca = pca.transform(features_human)     # (N, 50)\n",
    "\n",
    "# Computing the RDMs\n",
    "rdm_human = compute_rdm(human_pca, metric='correlation')\n",
    "rdm_cnn   = compute_rdm(features_cnn, metric='correlation')\n",
    "\n",
    "# Mantel test\n",
    "r, p = mantel_test(rdm_human, rdm_cnn, n_perm=1000)\n",
    "print(f\"Mantel correlation = {r:.3f}, p = {p:.3f}\")"
   ]
  },
  {
   "cell_type": "code",
   "execution_count": 32,
   "metadata": {},
   "outputs": [],
   "source": [
    "#--- Recalling labels from metadata ---\n",
    "unique_labels = sorted({ entry['label'] for entry in meta_kept })\n",
    "label_to_int  = { lab:i for i, lab in enumerate(unique_labels) }\n",
    "inv_label_map = { i:lab for lab,i in label_to_int.items() }"
   ]
  },
  {
   "cell_type": "markdown",
   "metadata": {},
   "source": [
    "# 3. Creating comparative RDMs"
   ]
  },
  {
   "cell_type": "code",
   "execution_count": 33,
   "metadata": {},
   "outputs": [],
   "source": [
    "#--- Helper function for extracting features ---\n",
    "\n",
    "def extract_feats(vol3d):\n",
    "    \"\"\" \n",
    "    Inputs:\n",
    "        vol3d = a 3D numpy array of shape (X, Y, Z)\n",
    "    Outputs:\n",
    "        out = a 1D numpy array of shape (256,) containing the features\n",
    "    \"\"\"\n",
    "    \n",
    "    x = torch.from_numpy(vol3d[None,None]).float().to(device)\n",
    "    with torch.no_grad():\n",
    "        out = F.relu6(model.bn1(model.conv1(x)))\n",
    "        out = model.ds1(out); out = model.ds2(out)\n",
    "        out = model.ds3(out); out = model.ds4(out)\n",
    "        out = model.pool(out).view(1,-1)   # (1,256)\n",
    "    return out.cpu().numpy()[0]            # (256,)"
   ]
  },
  {
   "cell_type": "code",
   "execution_count": null,
   "metadata": {},
   "outputs": [],
   "source": [
    "#--- Extracting features to build an actual matrix ---\n",
    "\n",
    "Xh = np.vstack([ e['volume'].ravel() for e in meta_kept ])\n",
    "yh = np.array([ label_to_int[e['label']] for e in meta_kept ])\n",
    "mask_var = Xh.std(0) > 0\n",
    "Xh = (Xh[:,mask_var] - Xh[:,mask_var].mean(0)) / (Xh[:,mask_var].std(0)+1e-6)\n",
    "\n",
    "# Human RDM\n",
    "human_means = np.vstack([ Xh[yh==lbl].mean(0) for lbl in range(5) ])\n",
    "rdm_h = squareform(pdist(human_means, metric='correlation'))\n",
    "\n",
    "# CNN RDM\n",
    "device = torch.device('cuda' if torch.cuda.is_available() else 'cpu')\n",
    "model.to(device).eval()\n",
    "## Building a feature matrix\n",
    "Xc = np.vstack([ extract_feats(e['volume']) for e in meta_kept ])\n",
    "yc = np.array([ label_to_int[e['label']] for e in meta_kept ])\n",
    "## Normalizing the features\n",
    "Xc = (Xc - Xc.mean(0)) / (Xc.std(0)+1e-6)\n",
    "## Averaging over emotion\n",
    "cnn_means = np.vstack([ Xc[yc==lbl].mean(0) for lbl in range(5) ])\n",
    "rdm_c = squareform(pdist(cnn_means, metric='correlation'))\n",
    "\n",
    "# Calculating the Mantel test\n",
    "idx = np.triu_indices(5, k=1)\n",
    "r,p = pearsonr(rdm_h[idx], rdm_c[idx])\n",
    "\n",
    "# Plotting the RDMs\n",
    "emotion_names = [inv_label_map[i] for i in range(5)]\n",
    "fig, (ax1,ax2) = plt.subplots(1,2,figsize=(8,4),constrained_layout=True)\n",
    "for ax, rdm, title in zip((ax1,ax2),(rdm_h,rdm_c),(\"Human RDM\",\"CNN RDM\")):\n",
    "    im = ax.imshow(rdm, vmin=0, vmax=1, cmap=\"RdBu_r\")\n",
    "    ax.set_title(title)\n",
    "    ax.set_xticks(range(5)); ax.set_xticklabels(emotion_names, rotation=45)\n",
    "    ax.set_yticks(range(5)); ax.set_yticklabels(emotion_names)\n",
    "    ax.set_xticks(np.arange(-.5,5), minor=True)\n",
    "    ax.set_yticks(np.arange(-.5,5), minor=True)\n",
    "    ax.grid(which=\"minor\", color=\"k\", lw=1)\n",
    "for spine in ax2.spines.values(): spine.set_visible(False)\n",
    "cbar = fig.colorbar(im, ax=(ax1,ax2), fraction=.03, pad=0.02)\n",
    "cbar.set_label(\"dist = 1–Pearson r\", rotation=270, labelpad=12)\n",
    "fig.suptitle(f\"Mantel r={r:.3f}, p={p:.3f}\", y=1.05, fontsize=14)\n",
    "plt.show()\n"
   ]
  },
  {
   "cell_type": "code",
   "execution_count": null,
   "metadata": {},
   "outputs": [],
   "source": []
  }
 ],
 "metadata": {
  "kernelspec": {
   "display_name": ".venv",
   "language": "python",
   "name": "python3"
  },
  "language_info": {
   "codemirror_mode": {
    "name": "ipython",
    "version": 3
   },
   "file_extension": ".py",
   "mimetype": "text/x-python",
   "name": "python",
   "nbconvert_exporter": "python",
   "pygments_lexer": "ipython3",
   "version": "3.13.1"
  }
 },
 "nbformat": 4,
 "nbformat_minor": 2
}
