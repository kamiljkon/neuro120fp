{
  "cells": [
    {
      "cell_type": "markdown",
      "metadata": {},
      "source": [
        "This notebook is adapted for running on Google Colab. Please notice some paths and file imports might NOT be adapted for running immmediately."
      ]
    },
    {
      "cell_type": "code",
      "execution_count": 1,
      "metadata": {},
      "outputs": [],
      "source": [
        "from config import *"
      ]
    },
    {
      "cell_type": "code",
      "execution_count": 1,
      "metadata": {
        "colab": {
          "base_uri": "https://localhost:8080/"
        },
        "id": "sctZ9diU9MW6",
        "outputId": "b101a393-23fa-4ef6-b761-b395719a51df"
      },
      "outputs": [
        {
          "name": "stdout",
          "output_type": "stream",
          "text": [
            "Mounted at /content/drive\n"
          ]
        }
      ],
      "source": [
        "from google.colab import drive\n",
        "drive.mount('/content/drive')"
      ]
    },
    {
      "cell_type": "markdown",
      "metadata": {},
      "source": [
        "# 1. Importing and loading the training data"
      ]
    },
    {
      "cell_type": "code",
      "execution_count": null,
      "metadata": {
        "colab": {
          "base_uri": "https://localhost:8080/"
        },
        "id": "ZVPYyBsq9RJa",
        "outputId": "a32941ec-c835-44fe-dda9-5ecd3c6b1366"
      },
      "outputs": [
        {
          "name": "stdout",
          "output_type": "stream",
          "text": [
            "torch.Size([4200, 1, 80, 80, 35]) torch.Size([4200])\n"
          ]
        }
      ],
      "source": [
        "#--- Importing the processed data for the CNN ---\n",
        "import torch\n",
        "\n",
        "base = '/content/drive/MyDrive/fMRI-CNN'\n",
        "\n",
        "X_train = torch.load(f'{base}/X_train.pt')\n",
        "y_train = torch.load(f'{base}/y_train.pt')\n",
        "X_val   = torch.load(f'{base}/X_val.pt')\n",
        "y_val   = torch.load(f'{base}/y_val.pt')\n",
        "\n",
        "print(X_train.shape, y_train.shape)"
      ]
    },
    {
      "cell_type": "code",
      "execution_count": null,
      "metadata": {
        "colab": {
          "base_uri": "https://localhost:8080/"
        },
        "id": "r69X2YNV9eKi",
        "outputId": "e84795fe-9a5d-4e01-e982-905d839914cd"
      },
      "outputs": [
        {
          "name": "stdout",
          "output_type": "stream",
          "text": [
            "Using device: cpu\n"
          ]
        }
      ],
      "source": [
        "#--- Agnostic code ---\n",
        "device = torch.device('cuda' if torch.cuda.is_available() else 'cpu')\n",
        "print(\"Using device:\", device)"
      ]
    },
    {
      "cell_type": "code",
      "execution_count": null,
      "metadata": {
        "id": "2WZdE1ka9289"
      },
      "outputs": [],
      "source": [
        "#--- Creating the dataset and dataloader ---\n",
        "train_ds = TensorDataset(X_train.float().to(device), y_train.long().to(device))\n",
        "val_ds = TensorDataset(X_val.float().to(device),   y_val.long().to(device))\n",
        "\n",
        "train_loader = DataLoader(train_ds, batch_size=16, shuffle=True,  num_workers=0, pin_memory=False)\n",
        "val_loader = DataLoader(val_ds, batch_size=16, shuffle=False, num_workers=0, pin_memory=False)"
      ]
    },
    {
      "cell_type": "markdown",
      "metadata": {},
      "source": [
        "# 2. Training the model"
      ]
    },
    {
      "cell_type": "code",
      "execution_count": null,
      "metadata": {
        "id": "zLaXAuG6-JvS"
      },
      "outputs": [],
      "source": [
        "#--- Creating the training and testing loop ---\n",
        "def train_epoch(model, loader, criterion, optimizer, device):\n",
        "    model.train()\n",
        "    total_loss, preds, targets = 0.0, [], []\n",
        "    for Xb, yb in loader:\n",
        "        Xb, yb = Xb.to(device), yb.to(device)\n",
        "        optimizer.zero_grad()\n",
        "        out = model(Xb)\n",
        "        loss = criterion(out, yb)\n",
        "        loss.backward()\n",
        "        optimizer.step()\n",
        "        total_loss += loss.item() * Xb.size(0)\n",
        "        preds.extend(out.argmax(1).cpu().tolist())\n",
        "        targets.extend(yb.cpu().tolist())\n",
        "    return total_loss/len(loader.dataset), accuracy_score(targets, preds)\n",
        "\n",
        "def eval_epoch(model, loader, criterion, device):\n",
        "    model.eval()\n",
        "    total_loss, preds, targets = 0.0, [], []\n",
        "    with torch.no_grad():\n",
        "        for Xb, yb in loader:\n",
        "            Xb, yb = Xb.to(device), yb.to(device)\n",
        "            out = model(Xb)\n",
        "            loss = criterion(out, yb)\n",
        "            total_loss += loss.item() * Xb.size(0)\n",
        "            preds.extend(out.argmax(1).cpu().tolist())\n",
        "            targets.extend(yb.cpu().tolist())\n",
        "    return total_loss/len(loader.dataset), accuracy_score(targets, preds)"
      ]
    },
    {
      "cell_type": "code",
      "execution_count": null,
      "metadata": {
        "colab": {
          "base_uri": "https://localhost:8080/",
          "height": 216
        },
        "id": "9AxIxdMp-L_y",
        "outputId": "87a2edc1-655c-4a85-8089-bf0fc9d7bb7f"
      },
      "outputs": [],
      "source": [
        "#--- Model configuration ---\n",
        "\n",
        "epochs = 50\n",
        "patience = 10     # After how many epochs to stop training\n",
        "checkpoint_path = \"bestmodel.pth\"\n",
        "\n",
        "device = torch.device(\"cuda\" if torch.cuda.is_available() else \"cpu\")\n",
        "model = Bigger3DCNN(in_channels=X_train.shape[1], num_classes=len(torch.unique(y_train)), dropout_p=0.3)\n",
        "model = model.to(device)\n",
        "optimizer = optim.AdamW(model.parameters(), lr=1e-3, weight_decay=1e-4)\n",
        "scheduler = CosineAnnealingLR(optimizer, T_max=epochs)\n",
        "torch.backends.cudnn.benchmark = True\n",
        "\n",
        "criterion = nn.CrossEntropyLoss()"
      ]
    },
    {
      "cell_type": "code",
      "execution_count": null,
      "metadata": {
        "colab": {
          "base_uri": "https://localhost:8080/"
        },
        "id": "3SJ_AtR4-OVR",
        "outputId": "5eaaeba6-212e-4b4f-b5ee-9556a8b1313b"
      },
      "outputs": [
        {
          "name": "stderr",
          "output_type": "stream",
          "text": []
        },
        {
          "name": "stdout",
          "output_type": "stream",
          "text": [
            "Epoch 1/50 | Train loss=1.4709, acc=0.322 | Val   loss=1.4278, acc=0.371 | Patience 0/10 | Time 23.7s\n"
          ]
        },
        {
          "name": "stderr",
          "output_type": "stream",
          "text": []
        },
        {
          "name": "stdout",
          "output_type": "stream",
          "text": [
            "Epoch 2/50 | Train loss=1.4018, acc=0.369 | Val   loss=1.4286, acc=0.331 | Patience 1/10 | Time 19.0s\n"
          ]
        },
        {
          "name": "stderr",
          "output_type": "stream",
          "text": []
        },
        {
          "name": "stdout",
          "output_type": "stream",
          "text": [
            "Epoch 3/50 | Train loss=1.3765, acc=0.375 | Val   loss=1.3293, acc=0.379 | Patience 0/10 | Time 19.0s\n"
          ]
        },
        {
          "name": "stderr",
          "output_type": "stream",
          "text": []
        },
        {
          "name": "stdout",
          "output_type": "stream",
          "text": [
            "Epoch 4/50 | Train loss=1.3090, acc=0.425 | Val   loss=1.2777, acc=0.435 | Patience 0/10 | Time 19.0s\n"
          ]
        },
        {
          "name": "stderr",
          "output_type": "stream",
          "text": []
        },
        {
          "name": "stdout",
          "output_type": "stream",
          "text": [
            "Epoch 5/50 | Train loss=1.2808, acc=0.443 | Val   loss=1.2929, acc=0.417 | Patience 1/10 | Time 19.0s\n"
          ]
        },
        {
          "name": "stderr",
          "output_type": "stream",
          "text": []
        },
        {
          "name": "stdout",
          "output_type": "stream",
          "text": [
            "Epoch 6/50 | Train loss=1.2296, acc=0.467 | Val   loss=1.2360, acc=0.448 | Patience 0/10 | Time 19.0s\n"
          ]
        },
        {
          "name": "stderr",
          "output_type": "stream",
          "text": []
        },
        {
          "name": "stdout",
          "output_type": "stream",
          "text": [
            "Epoch 7/50 | Train loss=1.1994, acc=0.479 | Val   loss=1.2244, acc=0.462 | Patience 0/10 | Time 19.0s\n"
          ]
        },
        {
          "name": "stderr",
          "output_type": "stream",
          "text": []
        },
        {
          "name": "stdout",
          "output_type": "stream",
          "text": [
            "Epoch 8/50 | Train loss=1.1665, acc=0.494 | Val   loss=1.2749, acc=0.419 | Patience 1/10 | Time 19.0s\n"
          ]
        },
        {
          "name": "stderr",
          "output_type": "stream",
          "text": []
        },
        {
          "name": "stdout",
          "output_type": "stream",
          "text": [
            "Epoch 9/50 | Train loss=1.1324, acc=0.512 | Val   loss=1.2115, acc=0.474 | Patience 0/10 | Time 19.0s\n"
          ]
        },
        {
          "name": "stderr",
          "output_type": "stream",
          "text": []
        },
        {
          "name": "stdout",
          "output_type": "stream",
          "text": [
            "Epoch 10/50 | Train loss=1.0948, acc=0.530 | Val   loss=1.1776, acc=0.494 | Patience 0/10 | Time 19.0s\n"
          ]
        },
        {
          "name": "stderr",
          "output_type": "stream",
          "text": []
        },
        {
          "name": "stdout",
          "output_type": "stream",
          "text": [
            "Epoch 11/50 | Train loss=1.0687, acc=0.546 | Val   loss=1.1596, acc=0.490 | Patience 1/10 | Time 19.0s\n"
          ]
        },
        {
          "name": "stderr",
          "output_type": "stream",
          "text": []
        },
        {
          "name": "stdout",
          "output_type": "stream",
          "text": [
            "Epoch 12/50 | Train loss=1.0080, acc=0.570 | Val   loss=1.1456, acc=0.502 | Patience 0/10 | Time 19.0s\n"
          ]
        },
        {
          "name": "stderr",
          "output_type": "stream",
          "text": []
        },
        {
          "name": "stdout",
          "output_type": "stream",
          "text": [
            "Epoch 13/50 | Train loss=0.9558, acc=0.597 | Val   loss=1.1826, acc=0.518 | Patience 0/10 | Time 19.0s\n"
          ]
        },
        {
          "name": "stderr",
          "output_type": "stream",
          "text": []
        },
        {
          "name": "stdout",
          "output_type": "stream",
          "text": [
            "Epoch 14/50 | Train loss=0.9173, acc=0.624 | Val   loss=1.1691, acc=0.522 | Patience 0/10 | Time 19.0s\n"
          ]
        },
        {
          "name": "stderr",
          "output_type": "stream",
          "text": []
        },
        {
          "name": "stdout",
          "output_type": "stream",
          "text": [
            "Epoch 15/50 | Train loss=0.8697, acc=0.640 | Val   loss=1.0543, acc=0.549 | Patience 0/10 | Time 19.0s\n"
          ]
        },
        {
          "name": "stderr",
          "output_type": "stream",
          "text": []
        },
        {
          "name": "stdout",
          "output_type": "stream",
          "text": [
            "Epoch 16/50 | Train loss=0.8005, acc=0.675 | Val   loss=1.1063, acc=0.561 | Patience 0/10 | Time 19.0s\n"
          ]
        },
        {
          "name": "stderr",
          "output_type": "stream",
          "text": []
        },
        {
          "name": "stdout",
          "output_type": "stream",
          "text": [
            "Epoch 17/50 | Train loss=0.7783, acc=0.684 | Val   loss=1.2071, acc=0.556 | Patience 1/10 | Time 19.0s\n"
          ]
        },
        {
          "name": "stderr",
          "output_type": "stream",
          "text": []
        },
        {
          "name": "stdout",
          "output_type": "stream",
          "text": [
            "Epoch 18/50 | Train loss=0.7081, acc=0.716 | Val   loss=1.0564, acc=0.578 | Patience 0/10 | Time 19.0s\n"
          ]
        },
        {
          "name": "stderr",
          "output_type": "stream",
          "text": []
        },
        {
          "name": "stdout",
          "output_type": "stream",
          "text": [
            "Epoch 19/50 | Train loss=0.6330, acc=0.751 | Val   loss=1.1275, acc=0.580 | Patience 0/10 | Time 19.0s\n"
          ]
        },
        {
          "name": "stderr",
          "output_type": "stream",
          "text": []
        },
        {
          "name": "stdout",
          "output_type": "stream",
          "text": [
            "Epoch 20/50 | Train loss=0.5798, acc=0.766 | Val   loss=1.0830, acc=0.614 | Patience 0/10 | Time 19.0s\n"
          ]
        },
        {
          "name": "stderr",
          "output_type": "stream",
          "text": []
        },
        {
          "name": "stdout",
          "output_type": "stream",
          "text": [
            "Epoch 21/50 | Train loss=0.5001, acc=0.803 | Val   loss=1.1680, acc=0.591 | Patience 1/10 | Time 19.0s\n"
          ]
        },
        {
          "name": "stderr",
          "output_type": "stream",
          "text": []
        },
        {
          "name": "stdout",
          "output_type": "stream",
          "text": [
            "Epoch 22/50 | Train loss=0.4471, acc=0.828 | Val   loss=1.1556, acc=0.606 | Patience 2/10 | Time 19.0s\n"
          ]
        },
        {
          "name": "stderr",
          "output_type": "stream",
          "text": []
        },
        {
          "name": "stdout",
          "output_type": "stream",
          "text": [
            "Epoch 23/50 | Train loss=0.3953, acc=0.849 | Val   loss=1.3501, acc=0.599 | Patience 3/10 | Time 19.0s\n"
          ]
        },
        {
          "name": "stderr",
          "output_type": "stream",
          "text": []
        },
        {
          "name": "stdout",
          "output_type": "stream",
          "text": [
            "Epoch 24/50 | Train loss=0.3036, acc=0.885 | Val   loss=1.4376, acc=0.583 | Patience 4/10 | Time 19.0s\n"
          ]
        },
        {
          "name": "stderr",
          "output_type": "stream",
          "text": []
        },
        {
          "name": "stdout",
          "output_type": "stream",
          "text": [
            "Epoch 25/50 | Train loss=0.2819, acc=0.894 | Val   loss=1.3450, acc=0.611 | Patience 5/10 | Time 19.0s\n"
          ]
        },
        {
          "name": "stderr",
          "output_type": "stream",
          "text": []
        },
        {
          "name": "stdout",
          "output_type": "stream",
          "text": [
            "Epoch 26/50 | Train loss=0.2384, acc=0.914 | Val   loss=1.4033, acc=0.607 | Patience 6/10 | Time 19.0s\n"
          ]
        },
        {
          "name": "stderr",
          "output_type": "stream",
          "text": []
        },
        {
          "name": "stdout",
          "output_type": "stream",
          "text": [
            "Epoch 27/50 | Train loss=0.2032, acc=0.931 | Val   loss=1.3826, acc=0.605 | Patience 7/10 | Time 19.0s\n"
          ]
        },
        {
          "name": "stderr",
          "output_type": "stream",
          "text": []
        },
        {
          "name": "stdout",
          "output_type": "stream",
          "text": [
            "Epoch 28/50 | Train loss=0.1542, acc=0.949 | Val   loss=1.3560, acc=0.643 | Patience 0/10 | Time 19.0s\n"
          ]
        },
        {
          "name": "stderr",
          "output_type": "stream",
          "text": []
        },
        {
          "name": "stdout",
          "output_type": "stream",
          "text": [
            "Epoch 29/50 | Train loss=0.0992, acc=0.969 | Val   loss=1.4784, acc=0.650 | Patience 0/10 | Time 19.0s\n"
          ]
        },
        {
          "name": "stderr",
          "output_type": "stream",
          "text": []
        },
        {
          "name": "stdout",
          "output_type": "stream",
          "text": [
            "Epoch 30/50 | Train loss=0.0888, acc=0.972 | Val   loss=1.3612, acc=0.670 | Patience 0/10 | Time 19.0s\n"
          ]
        },
        {
          "name": "stderr",
          "output_type": "stream",
          "text": []
        },
        {
          "name": "stdout",
          "output_type": "stream",
          "text": [
            "Epoch 31/50 | Train loss=0.0718, acc=0.978 | Val   loss=1.5501, acc=0.655 | Patience 1/10 | Time 19.0s\n"
          ]
        },
        {
          "name": "stderr",
          "output_type": "stream",
          "text": []
        },
        {
          "name": "stdout",
          "output_type": "stream",
          "text": [
            "Epoch 32/50 | Train loss=0.0664, acc=0.979 | Val   loss=1.4439, acc=0.651 | Patience 2/10 | Time 19.0s\n"
          ]
        },
        {
          "name": "stderr",
          "output_type": "stream",
          "text": []
        },
        {
          "name": "stdout",
          "output_type": "stream",
          "text": [
            "Epoch 33/50 | Train loss=0.0424, acc=0.988 | Val   loss=1.5469, acc=0.645 | Patience 3/10 | Time 19.0s\n"
          ]
        },
        {
          "name": "stderr",
          "output_type": "stream",
          "text": []
        },
        {
          "name": "stdout",
          "output_type": "stream",
          "text": [
            "Epoch 34/50 | Train loss=0.0336, acc=0.991 | Val   loss=1.5171, acc=0.664 | Patience 4/10 | Time 19.0s\n"
          ]
        },
        {
          "name": "stderr",
          "output_type": "stream",
          "text": []
        },
        {
          "name": "stdout",
          "output_type": "stream",
          "text": [
            "Epoch 35/50 | Train loss=0.0285, acc=0.992 | Val   loss=1.5055, acc=0.661 | Patience 5/10 | Time 19.0s\n"
          ]
        },
        {
          "name": "stderr",
          "output_type": "stream",
          "text": []
        },
        {
          "name": "stdout",
          "output_type": "stream",
          "text": [
            "Epoch 36/50 | Train loss=0.0234, acc=0.995 | Val   loss=1.5957, acc=0.654 | Patience 6/10 | Time 19.0s\n"
          ]
        },
        {
          "name": "stderr",
          "output_type": "stream",
          "text": []
        },
        {
          "name": "stdout",
          "output_type": "stream",
          "text": [
            "Epoch 37/50 | Train loss=0.0177, acc=0.997 | Val   loss=1.4978, acc=0.672 | Patience 0/10 | Time 19.0s\n"
          ]
        },
        {
          "name": "stderr",
          "output_type": "stream",
          "text": []
        },
        {
          "name": "stdout",
          "output_type": "stream",
          "text": [
            "Epoch 38/50 | Train loss=0.0145, acc=0.996 | Val   loss=1.5705, acc=0.675 | Patience 0/10 | Time 19.0s\n"
          ]
        },
        {
          "name": "stderr",
          "output_type": "stream",
          "text": []
        },
        {
          "name": "stdout",
          "output_type": "stream",
          "text": [
            "Epoch 39/50 | Train loss=0.0132, acc=0.998 | Val   loss=1.4996, acc=0.673 | Patience 1/10 | Time 19.0s\n"
          ]
        },
        {
          "name": "stderr",
          "output_type": "stream",
          "text": []
        },
        {
          "name": "stdout",
          "output_type": "stream",
          "text": [
            "Epoch 40/50 | Train loss=0.0082, acc=0.999 | Val   loss=1.5200, acc=0.678 | Patience 0/10 | Time 19.0s\n"
          ]
        },
        {
          "name": "stderr",
          "output_type": "stream",
          "text": []
        },
        {
          "name": "stdout",
          "output_type": "stream",
          "text": [
            "Epoch 41/50 | Train loss=0.0071, acc=1.000 | Val   loss=1.5404, acc=0.677 | Patience 1/10 | Time 19.0s\n"
          ]
        },
        {
          "name": "stderr",
          "output_type": "stream",
          "text": []
        },
        {
          "name": "stdout",
          "output_type": "stream",
          "text": [
            "Epoch 42/50 | Train loss=0.0057, acc=1.000 | Val   loss=1.5482, acc=0.675 | Patience 2/10 | Time 19.0s\n"
          ]
        },
        {
          "name": "stderr",
          "output_type": "stream",
          "text": []
        },
        {
          "name": "stdout",
          "output_type": "stream",
          "text": [
            "Epoch 43/50 | Train loss=0.0058, acc=1.000 | Val   loss=1.6030, acc=0.677 | Patience 3/10 | Time 19.0s\n"
          ]
        },
        {
          "name": "stderr",
          "output_type": "stream",
          "text": []
        },
        {
          "name": "stdout",
          "output_type": "stream",
          "text": [
            "Epoch 44/50 | Train loss=0.0043, acc=1.000 | Val   loss=1.5999, acc=0.668 | Patience 4/10 | Time 19.0s\n"
          ]
        },
        {
          "name": "stderr",
          "output_type": "stream",
          "text": []
        },
        {
          "name": "stdout",
          "output_type": "stream",
          "text": [
            "Epoch 45/50 | Train loss=0.0038, acc=1.000 | Val   loss=1.5678, acc=0.677 | Patience 5/10 | Time 19.0s\n"
          ]
        },
        {
          "name": "stderr",
          "output_type": "stream",
          "text": []
        },
        {
          "name": "stdout",
          "output_type": "stream",
          "text": [
            "Epoch 46/50 | Train loss=0.0038, acc=1.000 | Val   loss=1.5804, acc=0.678 | Patience 6/10 | Time 19.0s\n"
          ]
        },
        {
          "name": "stderr",
          "output_type": "stream",
          "text": []
        },
        {
          "name": "stdout",
          "output_type": "stream",
          "text": [
            "Epoch 47/50 | Train loss=0.0036, acc=1.000 | Val   loss=1.5577, acc=0.673 | Patience 7/10 | Time 19.0s\n"
          ]
        },
        {
          "name": "stderr",
          "output_type": "stream",
          "text": []
        },
        {
          "name": "stdout",
          "output_type": "stream",
          "text": [
            "Epoch 48/50 | Train loss=0.0033, acc=1.000 | Val   loss=1.5716, acc=0.679 | Patience 0/10 | Time 19.0s\n"
          ]
        },
        {
          "name": "stderr",
          "output_type": "stream",
          "text": []
        },
        {
          "name": "stdout",
          "output_type": "stream",
          "text": [
            "Epoch 49/50 | Train loss=0.0029, acc=1.000 | Val   loss=1.5938, acc=0.681 | Patience 0/10 | Time 19.0s\n"
          ]
        },
        {
          "name": "stderr",
          "output_type": "stream",
          "text": [
            "                                                                    "
          ]
        },
        {
          "name": "stdout",
          "output_type": "stream",
          "text": [
            "Epoch 50/50 | Train loss=0.0038, acc=1.000 | Val   loss=1.5653, acc=0.678 | Patience 1/10 | Time 19.0s\n"
          ]
        },
        {
          "name": "stderr",
          "output_type": "stream",
          "text": [
            "\r"
          ]
        }
      ],
      "source": [
        "#--- Training loop ---\n",
        "\n",
        "train_losses, val_losses = [], []\n",
        "train_accs, val_accs = [], []\n",
        "best_val_acc = 0.0\n",
        "patience_counter = 0\n",
        "\n",
        "for epoch in range(1, epochs + 1):\n",
        "    epoch_start = time.time()\n",
        "\n",
        "    # ——— Training ———\n",
        "    model.train()\n",
        "    running_loss, all_preds, all_targets = 0.0, [], []\n",
        "    pbar = tqdm(\n",
        "        train_loader,\n",
        "        total=len(train_loader),\n",
        "        desc=f\"Epoch {epoch}/{epochs} (train)\",\n",
        "        leave=False\n",
        "    )\n",
        "    for Xb, yb in pbar:\n",
        "        Xb, yb = Xb.to(device), yb.to(device)\n",
        "        optimizer.zero_grad()\n",
        "        out = model(Xb)\n",
        "        loss = criterion(out, yb)\n",
        "        loss.backward()\n",
        "        optimizer.step()\n",
        "\n",
        "        running_loss += loss.item() * Xb.size(0)\n",
        "        all_preds.extend(out.argmax(1).cpu().tolist())\n",
        "        all_targets.extend(yb.cpu().tolist())\n",
        "        pbar.set_postfix(batch_loss=f\"{loss.item():.3f}\")\n",
        "\n",
        "    train_loss = running_loss / len(train_loader.dataset)\n",
        "    train_acc  = accuracy_score(all_targets, all_preds)\n",
        "\n",
        "    # ——— Validation ———\n",
        "    model.eval()\n",
        "    running_loss, all_preds, all_targets = 0.0, [], []\n",
        "    with torch.no_grad():\n",
        "        for Xb, yb in tqdm(\n",
        "            val_loader,\n",
        "            total=len(val_loader),\n",
        "            desc=f\"Epoch {epoch}/{epochs} (val)  \",\n",
        "            leave=False\n",
        "        ):\n",
        "            Xb, yb = Xb.to(device), yb.to(device)\n",
        "            out = model(Xb)\n",
        "            loss = criterion(out, yb)\n",
        "\n",
        "            running_loss += loss.item() * Xb.size(0)\n",
        "            all_preds.extend(out.argmax(1).cpu().tolist())\n",
        "            all_targets.extend(yb.cpu().tolist())\n",
        "\n",
        "    val_loss = running_loss / len(val_loader.dataset)\n",
        "    val_acc  = accuracy_score(all_targets, all_preds)\n",
        "\n",
        "    scheduler.step()\n",
        "    if val_acc > best_val_acc:\n",
        "        best_val_acc = val_acc\n",
        "        patience_counter = 0\n",
        "        torch.save(model.state_dict(), checkpoint_path)\n",
        "    else:\n",
        "        patience_counter += 1\n",
        "\n",
        "    train_losses.append(train_loss)\n",
        "    val_losses.append(val_loss)\n",
        "    train_accs.append(train_acc)\n",
        "    val_accs.append(val_acc)\n",
        "\n",
        "    elapsed = time.time() - epoch_start\n",
        "    print(\n",
        "        f\"Epoch {epoch}/{epochs} | \"\n",
        "        f\"Train loss={train_loss:.4f}, acc={train_acc:.3f} | \"\n",
        "        f\"Val   loss={val_loss:.4f}, acc={val_acc:.3f} | \"\n",
        "        f\"Patience {patience_counter}/{patience} | \"\n",
        "        f\"Time {elapsed:.1f}s\"\n",
        "    )\n",
        "\n",
        "    if patience_counter >= patience:\n",
        "        print(f\"Early stopping at epoch {epoch}. Best val acc: {best_val_acc:.3f}\")\n",
        "        break"
      ]
    },
    {
      "cell_type": "markdown",
      "metadata": {},
      "source": [
        "# 3. Performance analysis"
      ]
    },
    {
      "cell_type": "code",
      "execution_count": null,
      "metadata": {
        "colab": {
          "base_uri": "https://localhost:8080/",
          "height": 624
        },
        "id": "RikPZhwsi1w2",
        "outputId": "dcbc8577-652d-4d5c-f2df-2314b743667e"
      },
      "outputs": [
        {
          "name": "stderr",
          "output_type": "stream",
          "text": [
            "100%|██████████| 66/66 [01:51<00:00,  1.69s/it]\n"
          ]
        },
        {
          "data": {
            "image/png": "[encoded data removed]",
            "text/plain": [
              "<Figure size 800x600 with 1 Axes>"
            ]
          },
          "metadata": {},
          "output_type": "display_data"
        }
      ],
      "source": [
        "#--- Plotting a ROC curve for the model ---\n",
        "\n",
        "# Initializnig list \n",
        "all_labels = []\n",
        "all_probs  = []\n",
        "\n",
        "# Run predictions\n",
        "with torch.no_grad():\n",
        "    for inputs, labels in tqdm(val_loader):\n",
        "        inputs = inputs.cpu()\n",
        "        logits = model(inputs)                    # shape (B, 5)\n",
        "        probs  = F.softmax(logits, dim=1).cpu().numpy()  # (B, 5)\n",
        "        all_probs.append(probs)\n",
        "        all_labels.append(labels.cpu().numpy()) # changed line\n",
        "\n",
        "y_true = np.concatenate(all_labels)  # shape (N,)\n",
        "y_proba = np.concatenate(all_probs)  # shape (N, 5)\n",
        "\n",
        "# Binarize labels for multiclass one-vs-rest\n",
        "y_true_bin = label_binarize(y_true, classes=[0,1,2,3,4])  # shape (N,5)\n",
        "\n",
        "# Compute ROC curve and ROC area for each class\n",
        "plt.figure(figsize=(8, 6))\n",
        "for k in range(5):\n",
        "    fpr, tpr, _ = roc_curve(y_true_bin[:, k], y_proba[:, k])\n",
        "    roc_auc = auc(fpr, tpr)\n",
        "    plt.plot(fpr, tpr, lw=2,\n",
        "             label=f'Class {k} vs rest (AUC = {roc_auc:.2f})')\n",
        "\n",
        "# Plot chance line\n",
        "plt.plot([0, 1], [0, 1], 'k--', lw=1)\n",
        "\n",
        "plt.xlim([0.0, 1.0])\n",
        "plt.ylim([0.0, 1.05])\n",
        "plt.xlabel('False Positive Rate')\n",
        "plt.ylabel('True Positive Rate')\n",
        "plt.title('Multiclass One-vs-Rest ROC Curves')\n",
        "plt.legend(loc='lower right')\n",
        "plt.tight_layout()\n",
        "plt.show()"
      ]
    },
    {
      "cell_type": "markdown",
      "metadata": {
        "id": "MjcWCjhplqev"
      },
      "source": [
        "# 4. Linear regression for comparison"
      ]
    },
    {
      "cell_type": "code",
      "execution_count": null,
      "metadata": {
        "colab": {
          "base_uri": "https://localhost:8080/"
        },
        "id": "0vqeRCR5lWun",
        "outputId": "3711ee81-878a-4e4b-accb-fe21d6aa7431"
      },
      "outputs": [
        {
          "name": "stdout",
          "output_type": "stream",
          "text": [
            "Epoch  1  Train Loss: 1436.0613  Train Acc: 0.235  Val Acc:   0.211\n",
            "Epoch  2  Train Loss: 1082.5317  Train Acc: 0.256  Val Acc:   0.209\n",
            "Epoch  3  Train Loss: 1236.9554  Train Acc: 0.268  Val Acc:   0.257\n",
            "Epoch  4  Train Loss: 1156.7927  Train Acc: 0.278  Val Acc:   0.230\n",
            "Epoch  5  Train Loss: 1199.5623  Train Acc: 0.284  Val Acc:   0.271\n",
            "Epoch  6  Train Loss: 1038.1280  Train Acc: 0.294  Val Acc:   0.319\n",
            "Epoch  7  Train Loss: 1161.1492  Train Acc: 0.283  Val Acc:   0.304\n",
            "Epoch  8  Train Loss: 1007.9460  Train Acc: 0.297  Val Acc:   0.238\n",
            "Epoch  9  Train Loss: 1269.2408  Train Acc: 0.296  Val Acc:   0.214\n",
            "Epoch 10  Train Loss: 1066.1815  Train Acc: 0.301  Val Acc:   0.289\n",
            "Epoch 11  Train Loss: 1152.3094  Train Acc: 0.302  Val Acc:   0.326\n",
            "Epoch 12  Train Loss: 1093.4069  Train Acc: 0.306  Val Acc:   0.295\n",
            "Epoch 13  Train Loss: 1050.0282  Train Acc: 0.317  Val Acc:   0.298\n",
            "Epoch 14  Train Loss: 969.9400  Train Acc: 0.331  Val Acc:   0.304\n",
            "Epoch 15  Train Loss: 963.0126  Train Acc: 0.319  Val Acc:   0.321\n",
            "Epoch 16  Train Loss: 1031.1425  Train Acc: 0.326  Val Acc:   0.333\n",
            "Epoch 17  Train Loss: 984.2407  Train Acc: 0.338  Val Acc:   0.290\n",
            "Epoch 18  Train Loss: 918.2387  Train Acc: 0.332  Val Acc:   0.216\n",
            "Epoch 19  Train Loss: 819.4901  Train Acc: 0.341  Val Acc:   0.343\n",
            "Epoch 20  Train Loss: 790.4661  Train Acc: 0.346  Val Acc:   0.218\n",
            "Epoch 21  Train Loss: 928.3717  Train Acc: 0.340  Val Acc:   0.257\n",
            "Epoch 22  Train Loss: 916.4426  Train Acc: 0.343  Val Acc:   0.307\n",
            "Epoch 23  Train Loss: 829.3372  Train Acc: 0.336  Val Acc:   0.231\n",
            "Epoch 24  Train Loss: 974.7494  Train Acc: 0.341  Val Acc:   0.292\n",
            "Epoch 25  Train Loss: 929.1417  Train Acc: 0.349  Val Acc:   0.345\n",
            "Epoch 26  Train Loss: 894.6882  Train Acc: 0.358  Val Acc:   0.308\n",
            "Epoch 27  Train Loss: 1044.5675  Train Acc: 0.343  Val Acc:   0.316\n",
            "Epoch 28  Train Loss: 904.3847  Train Acc: 0.343  Val Acc:   0.288\n",
            "Epoch 29  Train Loss: 989.6080  Train Acc: 0.353  Val Acc:   0.350\n",
            "Epoch 30  Train Loss: 1122.2899  Train Acc: 0.352  Val Acc:   0.263\n",
            "Epoch 31  Train Loss: 854.0953  Train Acc: 0.369  Val Acc:   0.320\n",
            "Epoch 32  Train Loss: 1019.4922  Train Acc: 0.347  Val Acc:   0.342\n",
            "Epoch 33  Train Loss: 831.0750  Train Acc: 0.365  Val Acc:   0.311\n",
            "Epoch 34  Train Loss: 766.1465  Train Acc: 0.379  Val Acc:   0.252\n",
            "Epoch 35  Train Loss: 834.5524  Train Acc: 0.354  Val Acc:   0.388\n",
            "Epoch 36  Train Loss: 672.5900  Train Acc: 0.386  Val Acc:   0.355\n",
            "Epoch 37  Train Loss: 658.0009  Train Acc: 0.387  Val Acc:   0.383\n",
            "Epoch 38  Train Loss: 912.7879  Train Acc: 0.355  Val Acc:   0.311\n",
            "Epoch 39  Train Loss: 837.8091  Train Acc: 0.374  Val Acc:   0.311\n",
            "Epoch 40  Train Loss: 819.6484  Train Acc: 0.382  Val Acc:   0.264\n",
            "Epoch 41  Train Loss: 703.6109  Train Acc: 0.384  Val Acc:   0.338\n",
            "Epoch 42  Train Loss: 777.4485  Train Acc: 0.380  Val Acc:   0.227\n",
            "Epoch 43  Train Loss: 670.3582  Train Acc: 0.402  Val Acc:   0.422\n",
            "Epoch 44  Train Loss: 999.9103  Train Acc: 0.346  Val Acc:   0.310\n",
            "Epoch 45  Train Loss: 688.8525  Train Acc: 0.389  Val Acc:   0.301\n",
            "Epoch 46  Train Loss: 718.5583  Train Acc: 0.371  Val Acc:   0.415\n",
            "Epoch 47  Train Loss: 672.1708  Train Acc: 0.398  Val Acc:   0.407\n",
            "Epoch 48  Train Loss: 751.6461  Train Acc: 0.385  Val Acc:   0.363\n",
            "Epoch 49  Train Loss: 732.6113  Train Acc: 0.396  Val Acc:   0.418\n",
            "Epoch 50  Train Loss: 710.2080  Train Acc: 0.391  Val Acc:   0.356\n",
            "Epoch 51  Train Loss: 631.1283  Train Acc: 0.396  Val Acc:   0.352\n",
            "Epoch 52  Train Loss: 960.9595  Train Acc: 0.379  Val Acc:   0.387\n",
            "Epoch 53  Train Loss: 898.1520  Train Acc: 0.371  Val Acc:   0.395\n",
            "Epoch 54  Train Loss: 741.1442  Train Acc: 0.392  Val Acc:   0.425\n",
            "Epoch 55  Train Loss: 805.7415  Train Acc: 0.382  Val Acc:   0.392\n",
            "Epoch 56  Train Loss: 713.9326  Train Acc: 0.402  Val Acc:   0.457\n",
            "Epoch 57  Train Loss: 708.9158  Train Acc: 0.408  Val Acc:   0.442\n",
            "Epoch 58  Train Loss: 851.9125  Train Acc: 0.377  Val Acc:   0.358\n",
            "Epoch 59  Train Loss: 713.6550  Train Acc: 0.409  Val Acc:   0.292\n",
            "Epoch 60  Train Loss: 688.9847  Train Acc: 0.408  Val Acc:   0.315\n",
            "Epoch 61  Train Loss: 774.0402  Train Acc: 0.392  Val Acc:   0.369\n",
            "Epoch 62  Train Loss: 839.5082  Train Acc: 0.375  Val Acc:   0.374\n",
            "Epoch 63  Train Loss: 710.0546  Train Acc: 0.408  Val Acc:   0.335\n",
            "Epoch 64  Train Loss: 802.0077  Train Acc: 0.396  Val Acc:   0.370\n",
            "Epoch 65  Train Loss: 704.6317  Train Acc: 0.401  Val Acc:   0.305\n",
            "Epoch 66  Train Loss: 712.4468  Train Acc: 0.404  Val Acc:   0.341\n",
            "Epoch 67  Train Loss: 841.9147  Train Acc: 0.402  Val Acc:   0.354\n",
            "Epoch 68  Train Loss: 707.7804  Train Acc: 0.406  Val Acc:   0.379\n",
            "Epoch 69  Train Loss: 786.7872  Train Acc: 0.387  Val Acc:   0.460\n",
            "Epoch 70  Train Loss: 871.5758  Train Acc: 0.378  Val Acc:   0.450\n",
            "Epoch 71  Train Loss: 677.8064  Train Acc: 0.427  Val Acc:   0.451\n",
            "Epoch 72  Train Loss: 647.2501  Train Acc: 0.419  Val Acc:   0.356\n",
            "Epoch 73  Train Loss: 761.9661  Train Acc: 0.400  Val Acc:   0.329\n",
            "Epoch 74  Train Loss: 606.2342  Train Acc: 0.425  Val Acc:   0.387\n",
            "Epoch 75  Train Loss: 602.0482  Train Acc: 0.417  Val Acc:   0.248\n",
            "Epoch 76  Train Loss: 719.9561  Train Acc: 0.415  Val Acc:   0.286\n",
            "Epoch 77  Train Loss: 707.0489  Train Acc: 0.423  Val Acc:   0.438\n",
            "Epoch 78  Train Loss: 665.9531  Train Acc: 0.416  Val Acc:   0.373\n",
            "Epoch 79  Train Loss: 681.3416  Train Acc: 0.408  Val Acc:   0.370\n",
            "Epoch 80  Train Loss: 788.9978  Train Acc: 0.405  Val Acc:   0.299\n",
            "Epoch 81  Train Loss: 738.9930  Train Acc: 0.414  Val Acc:   0.352\n",
            "Epoch 82  Train Loss: 815.5078  Train Acc: 0.400  Val Acc:   0.304\n",
            "Epoch 83  Train Loss: 790.6322  Train Acc: 0.407  Val Acc:   0.398\n",
            "Epoch 84  Train Loss: 675.9835  Train Acc: 0.420  Val Acc:   0.394\n",
            "Epoch 85  Train Loss: 680.1917  Train Acc: 0.421  Val Acc:   0.267\n",
            "Epoch 86  Train Loss: 795.0822  Train Acc: 0.405  Val Acc:   0.391\n",
            "Epoch 87  Train Loss: 559.6980  Train Acc: 0.443  Val Acc:   0.410\n",
            "Epoch 88  Train Loss: 644.8196  Train Acc: 0.421  Val Acc:   0.461\n",
            "Epoch 89  Train Loss: 616.7591  Train Acc: 0.426  Val Acc:   0.445\n",
            "Epoch 90  Train Loss: 590.7388  Train Acc: 0.432  Val Acc:   0.381\n",
            "Epoch 91  Train Loss: 747.9459  Train Acc: 0.423  Val Acc:   0.288\n",
            "Epoch 92  Train Loss: 723.9749  Train Acc: 0.418  Val Acc:   0.404\n",
            "Epoch 93  Train Loss: 645.6815  Train Acc: 0.413  Val Acc:   0.391\n",
            "Epoch 94  Train Loss: 604.2779  Train Acc: 0.424  Val Acc:   0.358\n",
            "Epoch 95  Train Loss: 693.2073  Train Acc: 0.413  Val Acc:   0.270\n",
            "Epoch 96  Train Loss: 701.9656  Train Acc: 0.413  Val Acc:   0.362\n",
            "Epoch 97  Train Loss: 673.3624  Train Acc: 0.424  Val Acc:   0.306\n",
            "Epoch 98  Train Loss: 733.8454  Train Acc: 0.424  Val Acc:   0.444\n",
            "Epoch 99  Train Loss: 643.9518  Train Acc: 0.444  Val Acc:   0.276\n",
            "Epoch 100  Train Loss: 742.2448  Train Acc: 0.412  Val Acc:   0.367\n",
            "Epoch 101  Train Loss: 658.6333  Train Acc: 0.427  Val Acc:   0.366\n",
            "Epoch 102  Train Loss: 585.4597  Train Acc: 0.447  Val Acc:   0.417\n",
            "Epoch 103  Train Loss: 688.1728  Train Acc: 0.442  Val Acc:   0.340\n",
            "Epoch 104  Train Loss: 790.0851  Train Acc: 0.401  Val Acc:   0.423\n",
            "Epoch 105  Train Loss: 672.3212  Train Acc: 0.432  Val Acc:   0.292\n",
            "Epoch 106  Train Loss: 560.3819  Train Acc: 0.455  Val Acc:   0.427\n",
            "Epoch 107  Train Loss: 766.8628  Train Acc: 0.415  Val Acc:   0.344\n",
            "Epoch 108  Train Loss: 738.9401  Train Acc: 0.426  Val Acc:   0.371\n",
            "Epoch 109  Train Loss: 595.0094  Train Acc: 0.454  Val Acc:   0.267\n",
            "Epoch 110  Train Loss: 740.9810  Train Acc: 0.418  Val Acc:   0.321\n",
            "Epoch 111  Train Loss: 564.3208  Train Acc: 0.454  Val Acc:   0.373\n",
            "Epoch 112  Train Loss: 685.6739  Train Acc: 0.434  Val Acc:   0.413\n",
            "Epoch 113  Train Loss: 711.2443  Train Acc: 0.436  Val Acc:   0.418\n",
            "Epoch 114  Train Loss: 583.7870  Train Acc: 0.459  Val Acc:   0.398\n",
            "Epoch 115  Train Loss: 605.7692  Train Acc: 0.441  Val Acc:   0.387\n",
            "Epoch 116  Train Loss: 520.0013  Train Acc: 0.456  Val Acc:   0.440\n",
            "Epoch 117  Train Loss: 564.7730  Train Acc: 0.462  Val Acc:   0.455\n",
            "Epoch 118  Train Loss: 623.5886  Train Acc: 0.446  Val Acc:   0.375\n",
            "Epoch 119  Train Loss: 632.2199  Train Acc: 0.451  Val Acc:   0.441\n",
            "Epoch 120  Train Loss: 679.6680  Train Acc: 0.433  Val Acc:   0.385\n",
            "Epoch 121  Train Loss: 646.7806  Train Acc: 0.438  Val Acc:   0.418\n",
            "Epoch 122  Train Loss: 664.9789  Train Acc: 0.438  Val Acc:   0.392\n",
            "Epoch 123  Train Loss: 660.7816  Train Acc: 0.439  Val Acc:   0.399\n",
            "Epoch 124  Train Loss: 696.1623  Train Acc: 0.430  Val Acc:   0.368\n",
            "Epoch 125  Train Loss: 567.8781  Train Acc: 0.456  Val Acc:   0.435\n",
            "Epoch 126  Train Loss: 750.2114  Train Acc: 0.427  Val Acc:   0.395\n",
            "Epoch 127  Train Loss: 574.5557  Train Acc: 0.438  Val Acc:   0.345\n",
            "Epoch 128  Train Loss: 715.8949  Train Acc: 0.427  Val Acc:   0.356\n",
            "Epoch 129  Train Loss: 658.9291  Train Acc: 0.436  Val Acc:   0.460\n",
            "Epoch 130  Train Loss: 792.1121  Train Acc: 0.433  Val Acc:   0.479\n",
            "Epoch 131  Train Loss: 622.5368  Train Acc: 0.445  Val Acc:   0.305\n",
            "Epoch 132  Train Loss: 612.7095  Train Acc: 0.456  Val Acc:   0.282\n",
            "Epoch 133  Train Loss: 551.5500  Train Acc: 0.453  Val Acc:   0.371\n",
            "Epoch 134  Train Loss: 557.0607  Train Acc: 0.465  Val Acc:   0.358\n",
            "Epoch 135  Train Loss: 645.9790  Train Acc: 0.454  Val Acc:   0.462\n",
            "Epoch 136  Train Loss: 643.6372  Train Acc: 0.448  Val Acc:   0.303\n",
            "Epoch 137  Train Loss: 640.9070  Train Acc: 0.458  Val Acc:   0.320\n",
            "Epoch 138  Train Loss: 586.0828  Train Acc: 0.447  Val Acc:   0.399\n",
            "Epoch 139  Train Loss: 630.9208  Train Acc: 0.442  Val Acc:   0.405\n",
            "Epoch 140  Train Loss: 565.7951  Train Acc: 0.452  Val Acc:   0.448\n",
            "Epoch 141  Train Loss: 661.7595  Train Acc: 0.449  Val Acc:   0.490\n",
            "Epoch 142  Train Loss: 500.5088  Train Acc: 0.476  Val Acc:   0.377\n",
            "Epoch 143  Train Loss: 615.3411  Train Acc: 0.465  Val Acc:   0.423\n",
            "Epoch 144  Train Loss: 751.2436  Train Acc: 0.431  Val Acc:   0.420\n",
            "Epoch 145  Train Loss: 660.5684  Train Acc: 0.446  Val Acc:   0.430\n",
            "Epoch 146  Train Loss: 543.5233  Train Acc: 0.473  Val Acc:   0.426\n",
            "Epoch 147  Train Loss: 563.9927  Train Acc: 0.466  Val Acc:   0.378\n",
            "Epoch 148  Train Loss: 730.3377  Train Acc: 0.444  Val Acc:   0.377\n",
            "Epoch 149  Train Loss: 609.5912  Train Acc: 0.458  Val Acc:   0.419\n",
            "Epoch 150  Train Loss: 635.5885  Train Acc: 0.453  Val Acc:   0.384\n",
            "Epoch 151  Train Loss: 713.1035  Train Acc: 0.436  Val Acc:   0.383\n",
            "Epoch 152  Train Loss: 571.6759  Train Acc: 0.477  Val Acc:   0.328\n",
            "Epoch 153  Train Loss: 548.9430  Train Acc: 0.469  Val Acc:   0.309\n",
            "Epoch 154  Train Loss: 713.5083  Train Acc: 0.445  Val Acc:   0.346\n",
            "Epoch 155  Train Loss: 701.0565  Train Acc: 0.441  Val Acc:   0.362\n",
            "Epoch 156  Train Loss: 587.1316  Train Acc: 0.471  Val Acc:   0.451\n",
            "Epoch 157  Train Loss: 586.4602  Train Acc: 0.453  Val Acc:   0.399\n",
            "Epoch 158  Train Loss: 634.4809  Train Acc: 0.453  Val Acc:   0.336\n",
            "Epoch 159  Train Loss: 666.9908  Train Acc: 0.451  Val Acc:   0.380\n",
            "Epoch 160  Train Loss: 559.6220  Train Acc: 0.482  Val Acc:   0.446\n",
            "Epoch 161  Train Loss: 552.7415  Train Acc: 0.473  Val Acc:   0.392\n",
            "Epoch 162  Train Loss: 661.2225  Train Acc: 0.463  Val Acc:   0.505\n",
            "Epoch 163  Train Loss: 710.0072  Train Acc: 0.448  Val Acc:   0.387\n",
            "Epoch 164  Train Loss: 632.5974  Train Acc: 0.466  Val Acc:   0.443\n",
            "Epoch 165  Train Loss: 457.9690  Train Acc: 0.495  Val Acc:   0.346\n",
            "Epoch 166  Train Loss: 700.8182  Train Acc: 0.464  Val Acc:   0.461\n",
            "Epoch 167  Train Loss: 571.2985  Train Acc: 0.473  Val Acc:   0.303\n",
            "Epoch 168  Train Loss: 700.6638  Train Acc: 0.452  Val Acc:   0.395\n",
            "Epoch 169  Train Loss: 669.1785  Train Acc: 0.453  Val Acc:   0.430\n",
            "Epoch 170  Train Loss: 596.4355  Train Acc: 0.474  Val Acc:   0.370\n",
            "Epoch 171  Train Loss: 702.2115  Train Acc: 0.461  Val Acc:   0.323\n",
            "Epoch 172  Train Loss: 574.0926  Train Acc: 0.465  Val Acc:   0.312\n",
            "Epoch 173  Train Loss: 590.0034  Train Acc: 0.481  Val Acc:   0.345\n",
            "Epoch 174  Train Loss: 535.8309  Train Acc: 0.488  Val Acc:   0.397\n",
            "Epoch 175  Train Loss: 593.7339  Train Acc: 0.478  Val Acc:   0.450\n",
            "Epoch 176  Train Loss: 590.0706  Train Acc: 0.482  Val Acc:   0.296\n",
            "Epoch 177  Train Loss: 706.5613  Train Acc: 0.456  Val Acc:   0.404\n",
            "Epoch 178  Train Loss: 620.5399  Train Acc: 0.469  Val Acc:   0.341\n",
            "Epoch 179  Train Loss: 554.4457  Train Acc: 0.481  Val Acc:   0.421\n",
            "Epoch 180  Train Loss: 563.7173  Train Acc: 0.482  Val Acc:   0.410\n",
            "Epoch 181  Train Loss: 590.2227  Train Acc: 0.481  Val Acc:   0.454\n",
            "Epoch 182  Train Loss: 534.6558  Train Acc: 0.493  Val Acc:   0.421\n",
            "Epoch 183  Train Loss: 637.6471  Train Acc: 0.461  Val Acc:   0.414\n",
            "Epoch 184  Train Loss: 637.6874  Train Acc: 0.465  Val Acc:   0.372\n",
            "Epoch 185  Train Loss: 549.4318  Train Acc: 0.484  Val Acc:   0.318\n",
            "Epoch 186  Train Loss: 741.3422  Train Acc: 0.434  Val Acc:   0.407\n",
            "Epoch 187  Train Loss: 580.3804  Train Acc: 0.482  Val Acc:   0.491\n",
            "Epoch 188  Train Loss: 634.7844  Train Acc: 0.473  Val Acc:   0.319\n",
            "Epoch 189  Train Loss: 567.9771  Train Acc: 0.487  Val Acc:   0.447\n",
            "Epoch 190  Train Loss: 602.9542  Train Acc: 0.473  Val Acc:   0.499\n",
            "Epoch 191  Train Loss: 524.8045  Train Acc: 0.483  Val Acc:   0.419\n",
            "Epoch 192  Train Loss: 621.5424  Train Acc: 0.471  Val Acc:   0.474\n",
            "Epoch 193  Train Loss: 709.3844  Train Acc: 0.462  Val Acc:   0.409\n",
            "Epoch 194  Train Loss: 605.1315  Train Acc: 0.478  Val Acc:   0.391\n",
            "Epoch 195  Train Loss: 663.5957  Train Acc: 0.455  Val Acc:   0.359\n",
            "Epoch 196  Train Loss: 615.3542  Train Acc: 0.481  Val Acc:   0.483\n",
            "Epoch 197  Train Loss: 628.7549  Train Acc: 0.475  Val Acc:   0.390\n",
            "Epoch 198  Train Loss: 645.5113  Train Acc: 0.476  Val Acc:   0.498\n",
            "Epoch 199  Train Loss: 535.8666  Train Acc: 0.490  Val Acc:   0.448\n",
            "Epoch 200  Train Loss: 542.1557  Train Acc: 0.490  Val Acc:   0.487\n"
          ]
        }
      ],
      "source": [
        "#--- Initializing and running a sample linear regression model ---\n",
        "\n",
        "# Defining the model\n",
        "class Linear3DClassifier(nn.Module):\n",
        "    def __init__(self, in_channels, D, H, W, num_classes=5):\n",
        "        super().__init__()\n",
        "        # flatten C×D×H×W → one big vector\n",
        "        self.fc = nn.Linear(in_channels * D * H * W, num_classes)\n",
        "    def forward(self, x):\n",
        "        # x: (B, C, D, H, W)\n",
        "        B = x.size(0)\n",
        "        x = x.view(B, -1)          # (B, C*D*H*W)\n",
        "        return self.fc(x)          # logits (B, num_classes)\n",
        "\n",
        "\n",
        "# Loading dimensions of data\n",
        "batch_inputs, batch_labels = next(iter(val_loader))\n",
        "C, D, H, W = batch_inputs.shape[1:]\n",
        "model_lin = Linear3DClassifier(C, D, H, W, num_classes=5).to(device)\n",
        "\n",
        "# Instantiaing the model\n",
        "device = torch.device('cuda' if torch.cuda.is_available() else 'cpu')\n",
        "criterion = nn.CrossEntropyLoss()\n",
        "optimizer = optim.SGD(model_lin.parameters(), lr=1e-2, momentum=0.9)\n",
        "\n",
        "# Training the model\n",
        "num_epochs = 200\n",
        "for epoch in range(1, num_epochs+1):\n",
        "    model_lin.train()\n",
        "    total_loss = 0\n",
        "    correct   = 0\n",
        "    total     = 0\n",
        "\n",
        "    for inputs, labels in train_loader:   # assumes you have a train_loader\n",
        "        inputs, labels = inputs.to(device), labels.to(device)\n",
        "        optimizer.zero_grad()\n",
        "        logits = model_lin(inputs)\n",
        "        loss   = criterion(logits, labels)\n",
        "        loss.backward()\n",
        "        optimizer.step()\n",
        "\n",
        "        total_loss += loss.item() * inputs.size(0)\n",
        "        preds = logits.argmax(dim=1)\n",
        "        correct += (preds == labels).sum().item()\n",
        "        total   += inputs.size(0)\n",
        "\n",
        "    train_loss = total_loss / total\n",
        "    train_acc  = correct / total\n",
        "\n",
        "    # Validation\n",
        "    model_lin.eval()\n",
        "    val_correct = 0\n",
        "    val_total   = 0\n",
        "    with torch.no_grad():\n",
        "        for inputs, labels in val_loader:\n",
        "            inputs, labels = inputs.to(device), labels.to(device)\n",
        "            logits = model_lin(inputs)\n",
        "            preds  = logits.argmax(dim=1)\n",
        "            val_correct += (preds==labels).sum().item()\n",
        "            val_total   += inputs.size(0)\n",
        "    val_acc = val_correct / val_total\n",
        "\n",
        "    print(f\"Epoch {epoch:2d}  \"\n",
        "          f\"Train Loss: {train_loss:.4f}  \"\n",
        "          f\"Train Acc: {train_acc:.3f}  \"\n",
        "          f\"Val Acc:   {val_acc:.3f}\")\n"
      ]
    },
    {
      "cell_type": "code",
      "execution_count": null,
      "metadata": {
        "colab": {
          "base_uri": "https://localhost:8080/",
          "height": 607
        },
        "id": "P_WfY14Elzr-",
        "outputId": "ec2376da-6aa9-4dae-8c14-fafcfd97a8b9"
      },
      "outputs": [
        {
          "data": {
            "image/png": "[encoded data removed]",
            "text/plain": [
              "<Figure size 800x600 with 1 Axes>"
            ]
          },
          "metadata": {},
          "output_type": "display_data"
        }
      ],
      "source": [
        "#--- Plotting a ROC curve for the linear model ---\n",
        "\n",
        "# Initializing list\n",
        "all_labels = []\n",
        "all_probs  = []\n",
        "\n",
        "# Run predictions\n",
        "with torch.no_grad():\n",
        "    for inputs, labels in val_loader:\n",
        "        inputs = inputs.to(device)\n",
        "        logits = model_lin(inputs)                # shape (B, 5)\n",
        "        probs  = F.softmax(logits, dim=1).cpu().numpy() # (B, 5)\n",
        "        all_probs.append(probs)\n",
        "        all_labels.append(labels.cpu().numpy()) \n",
        "\n",
        "y_true  = np.concatenate(all_labels)   # shape (N,)\n",
        "y_proba = np.concatenate(all_probs)    # shape (N, 5)\n",
        "\n",
        "# Binarize the true labels for one-vs-rest\n",
        "y_true_bin = label_binarize(y_true, classes=[0,1,2,3,4])  # (N,5)\n",
        "\n",
        "# Plot one-vs-rest ROC curves\n",
        "plt.figure(figsize=(8,6))\n",
        "for k in range(5):\n",
        "    fpr, tpr, _ = roc_curve(y_true_bin[:, k], y_proba[:, k])\n",
        "    roc_auc = auc(fpr, tpr)\n",
        "    plt.plot(fpr, tpr, lw=2,\n",
        "             label=f'Class {k} vs rest (AUC = {roc_auc:.2f})')\n",
        "\n",
        "# chance line\n",
        "plt.plot([0,1], [0,1], 'k--', lw=1)\n",
        "\n",
        "plt.xlim(0,1)\n",
        "plt.ylim(0,1.05)\n",
        "plt.xlabel('False Positive Rate')\n",
        "plt.ylabel('True Positive Rate')\n",
        "plt.title('Multiclass One-vs-Rest ROC: Multinomial Regression')\n",
        "plt.legend(loc='lower right')\n",
        "plt.tight_layout()\n",
        "plt.show()\n"
      ]
    },
    {
      "cell_type": "code",
      "execution_count": null,
      "metadata": {
        "id": "D5azOsKhmLdz"
      },
      "outputs": [],
      "source": []
    }
  ],
  "metadata": {
    "accelerator": "GPU",
    "colab": {
      "gpuType": "A100",
      "machine_shape": "hm",
      "provenance": []
    },
    "kernelspec": {
      "display_name": ".venv",
      "language": "python",
      "name": "python3"
    },
    "language_info": {
      "codemirror_mode": {
        "name": "ipython",
        "version": 3
      },
      "file_extension": ".py",
      "mimetype": "text/x-python",
      "name": "python",
      "nbconvert_exporter": "python",
      "pygments_lexer": "ipython3",
      "version": "3.13.1"
    }
  },
  "nbformat": 4,
  "nbformat_minor": 0
}
